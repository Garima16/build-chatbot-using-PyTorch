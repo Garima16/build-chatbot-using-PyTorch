{
 "cells": [
  {
   "cell_type": "code",
   "execution_count": 4,
   "metadata": {
    "colab": {},
    "colab_type": "code",
    "id": "aHzRzqYNlmGL"
   },
   "outputs": [],
   "source": [
    "import torch\n",
    "import torch.nn as nn\n",
    "from torch import optim\n",
    "import torch.nn.functional as F\n",
    "import csv\n",
    "import random\n",
    "import re\n",
    "import os\n",
    "import unicodedata\n",
    "import codecs\n",
    "import itertools"
   ]
  },
  {
   "cell_type": "code",
   "execution_count": 5,
   "metadata": {
    "colab": {
     "base_uri": "https://localhost:8080/",
     "height": 34
    },
    "colab_type": "code",
    "id": "Xt5IarmDl_LE",
    "outputId": "0c972d35-d3bb-46db-ade0-4099304d25b3"
   },
   "outputs": [
    {
     "name": "stdout",
     "output_type": "stream",
     "text": [
      "False\n"
     ]
    }
   ],
   "source": [
    "# to provide easy switching between cpu and gpu\n",
    "CUDA = print(torch.cuda.is_available())\n",
    "device = torch.device(\"cuda\" if CUDA else \"cpu\")"
   ]
  },
  {
   "cell_type": "markdown",
   "metadata": {
    "colab_type": "text",
    "id": "DxExTYw-3mWY"
   },
   "source": [
    "Part 1 :  **Data Preprocessing**"
   ]
  },
  {
   "cell_type": "code",
   "execution_count": 6,
   "metadata": {
    "colab": {
     "base_uri": "https://localhost:8080/",
     "height": 191
    },
    "colab_type": "code",
    "id": "vh_ALj0QkiTM",
    "outputId": "b6fc8a04-d4ea-445c-cde0-655fc5a9bfe0"
   },
   "outputs": [
    {
     "name": "stdout",
     "output_type": "stream",
     "text": [
      "u0 +++$+++ u2 +++$+++ m0 +++$+++ ['L194', 'L195', 'L196', 'L197']\n",
      "u0 +++$+++ u2 +++$+++ m0 +++$+++ ['L198', 'L199']\n",
      "u0 +++$+++ u2 +++$+++ m0 +++$+++ ['L200', 'L201', 'L202', 'L203']\n",
      "u0 +++$+++ u2 +++$+++ m0 +++$+++ ['L204', 'L205', 'L206']\n",
      "u0 +++$+++ u2 +++$+++ m0 +++$+++ ['L207', 'L208']\n",
      "u0 +++$+++ u2 +++$+++ m0 +++$+++ ['L271', 'L272', 'L273', 'L274', 'L275']\n",
      "u0 +++$+++ u2 +++$+++ m0 +++$+++ ['L276', 'L277']\n",
      "u0 +++$+++ u2 +++$+++ m0 +++$+++ ['L280', 'L281']\n",
      "u0 +++$+++ u2 +++$+++ m0 +++$+++ ['L363', 'L364']\n",
      "u0 +++$+++ u2 +++$+++ m0 +++$+++ ['L365', 'L366']\n"
     ]
    }
   ],
   "source": [
    "with open('movie_conversations.txt','r') as conv_file:\n",
    "  convs = conv_file.readlines()\n",
    "for conv in convs[:10]:\n",
    "  print(conv.strip())"
   ]
  },
  {
   "cell_type": "code",
   "execution_count": 7,
   "metadata": {
    "colab": {
     "base_uri": "https://localhost:8080/",
     "height": 211
    },
    "colab_type": "code",
    "id": "7dNqOrE3nXNS",
    "outputId": "c8833928-4e40-4f5c-8d60-9c05dbe807a6"
   },
   "outputs": [
    {
     "name": "stdout",
     "output_type": "stream",
     "text": [
      "b'L1045 +++$+++ u0 +++$+++ m0 +++$+++ BIANCA +++$+++ They do not!'\n",
      "b'L1044 +++$+++ u2 +++$+++ m0 +++$+++ CAMERON +++$+++ They do to!'\n",
      "b'L985 +++$+++ u0 +++$+++ m0 +++$+++ BIANCA +++$+++ I hope so.'\n",
      "b'L984 +++$+++ u2 +++$+++ m0 +++$+++ CAMERON +++$+++ She okay?'\n",
      "b\"L925 +++$+++ u0 +++$+++ m0 +++$+++ BIANCA +++$+++ Let's go.\"\n",
      "b'L924 +++$+++ u2 +++$+++ m0 +++$+++ CAMERON +++$+++ Wow'\n",
      "b\"L872 +++$+++ u0 +++$+++ m0 +++$+++ BIANCA +++$+++ Okay -- you're gonna need to learn how to lie.\"\n",
      "b'L871 +++$+++ u2 +++$+++ m0 +++$+++ CAMERON +++$+++ No'\n",
      "b'L870 +++$+++ u0 +++$+++ m0 +++$+++ BIANCA +++$+++ I\\'m kidding.  You know how sometimes you just become this \"persona\"?  And you don\\'t know how to quit?'\n",
      "b'L869 +++$+++ u0 +++$+++ m0 +++$+++ BIANCA +++$+++ Like my fear of wearing pastels?'\n"
     ]
    }
   ],
   "source": [
    "with open('movie_lines.txt', 'r', errors='replace') as lines_file:\n",
    "  lines = lines_file.readlines()\n",
    "for line in lines[:10]:\n",
    "  print(line.encode('utf-8').strip())"
   ]
  },
  {
   "cell_type": "code",
   "execution_count": 8,
   "metadata": {
    "colab": {},
    "colab_type": "code",
    "id": "bZEl5-KmmC3D"
   },
   "outputs": [],
   "source": [
    "line_fields = ['lineID', 'charID', 'movieID', 'char_name', 'text']\n",
    "lines = {}\n",
    "with open('movie_lines.txt','r',encoding='iso-8859-1') as file: #encodes ASCII chars, single Byte encoding method\n",
    "#   head = [next(file) for x in range(10)]\n",
    "  for line in file:\n",
    "    vals = line.strip().split('+++$+++')\n",
    "    lineID = vals[0].strip(' ')\n",
    "    line_obj = {}\n",
    "    line_obj['lineID'] = lineID\n",
    "    for i in range(1,len(vals)):\n",
    "      line_obj[line_fields[i]] = vals[i]\n",
    "    lines[line_obj['lineID']] = line_obj"
   ]
  },
  {
   "cell_type": "code",
   "execution_count": 9,
   "metadata": {
    "colab": {},
    "colab_type": "code",
    "id": "HVLXHXmhGWPh"
   },
   "outputs": [],
   "source": [
    "import pprint"
   ]
  },
  {
   "cell_type": "code",
   "execution_count": 11,
   "metadata": {
    "colab": {
     "base_uri": "https://localhost:8080/",
     "height": 1000
    },
    "colab_type": "code",
    "id": "DEOdehHqvZic",
    "outputId": "511298e6-753c-4530-f477-e5ad5a83a39e"
   },
   "outputs": [
    {
     "name": "stdout",
     "output_type": "stream",
     "text": [
      "[{'char1ID': 'u0 ',\n",
      "  'char2ID': ' u2 ',\n",
      "  'dialoguesIDs': \" ['L194', 'L195', 'L196', 'L197']\",\n",
      "  'lines': [{'charID': ' u0 ',\n",
      "             'char_name': ' BIANCA ',\n",
      "             'lineID': 'L194',\n",
      "             'movieID': ' m0 ',\n",
      "             'text': ' Can we make this quick?  Roxanne Korrine and Andrew '\n",
      "                     'Barrett are having an incredibly horrendous public '\n",
      "                     'break- up on the quad.  Again.'},\n",
      "            {'charID': ' u2 ',\n",
      "             'char_name': ' CAMERON ',\n",
      "             'lineID': 'L195',\n",
      "             'movieID': ' m0 ',\n",
      "             'text': \" Well, I thought we'd start with pronunciation, if \"\n",
      "                     \"that's okay with you.\"},\n",
      "            {'charID': ' u0 ',\n",
      "             'char_name': ' BIANCA ',\n",
      "             'lineID': 'L196',\n",
      "             'movieID': ' m0 ',\n",
      "             'text': ' Not the hacking and gagging and spitting part.  '\n",
      "                     'Please.'},\n",
      "            {'charID': ' u2 ',\n",
      "             'char_name': ' CAMERON ',\n",
      "             'lineID': 'L197',\n",
      "             'movieID': ' m0 ',\n",
      "             'text': \" Okay... then how 'bout we try out some French cuisine.  \"\n",
      "                     'Saturday?  Night?'}],\n",
      "  'movieID': ' m0 '},\n",
      " {'char1ID': 'u0 ',\n",
      "  'char2ID': ' u2 ',\n",
      "  'dialoguesIDs': \" ['L198', 'L199']\",\n",
      "  'lines': [{'charID': ' u0 ',\n",
      "             'char_name': ' BIANCA ',\n",
      "             'lineID': 'L198',\n",
      "             'movieID': ' m0 ',\n",
      "             'text': \" You're asking me out.  That's so cute. What's your name \"\n",
      "                     'again?'},\n",
      "            {'charID': ' u2 ',\n",
      "             'char_name': ' CAMERON ',\n",
      "             'lineID': 'L199',\n",
      "             'movieID': ' m0 ',\n",
      "             'text': ' Forget it.'}],\n",
      "  'movieID': ' m0 '},\n",
      " {'char1ID': 'u0 ',\n",
      "  'char2ID': ' u2 ',\n",
      "  'dialoguesIDs': \" ['L200', 'L201', 'L202', 'L203']\",\n",
      "  'lines': [{'charID': ' u0 ',\n",
      "             'char_name': ' BIANCA ',\n",
      "             'lineID': 'L200',\n",
      "             'movieID': ' m0 ',\n",
      "             'text': \" No, no, it's my fault -- we didn't have a proper \"\n",
      "                     'introduction ---'},\n",
      "            {'charID': ' u2 ',\n",
      "             'char_name': ' CAMERON ',\n",
      "             'lineID': 'L201',\n",
      "             'movieID': ' m0 ',\n",
      "             'text': ' Cameron.'},\n",
      "            {'charID': ' u0 ',\n",
      "             'char_name': ' BIANCA ',\n",
      "             'lineID': 'L202',\n",
      "             'movieID': ' m0 ',\n",
      "             'text': \" The thing is, Cameron -- I'm at the mercy of a \"\n",
      "                     'particularly hideous breed of loser.  My sister.  I '\n",
      "                     \"can't date until she does.\"},\n",
      "            {'charID': ' u2 ',\n",
      "             'char_name': ' CAMERON ',\n",
      "             'lineID': 'L203',\n",
      "             'movieID': ' m0 ',\n",
      "             'text': ' Seems like she could get a date easy enough...'}],\n",
      "  'movieID': ' m0 '},\n",
      " {'char1ID': 'u0 ',\n",
      "  'char2ID': ' u2 ',\n",
      "  'dialoguesIDs': \" ['L204', 'L205', 'L206']\",\n",
      "  'lines': [{'charID': ' u2 ',\n",
      "             'char_name': ' CAMERON ',\n",
      "             'lineID': 'L204',\n",
      "             'movieID': ' m0 ',\n",
      "             'text': ' Why?'},\n",
      "            {'charID': ' u0 ',\n",
      "             'char_name': ' BIANCA ',\n",
      "             'lineID': 'L205',\n",
      "             'movieID': ' m0 ',\n",
      "             'text': ' Unsolved mystery.  She used to be really popular when '\n",
      "                     'she started high school, then it was just like she got '\n",
      "                     'sick of it or something.'},\n",
      "            {'charID': ' u2 ',\n",
      "             'char_name': ' CAMERON ',\n",
      "             'lineID': 'L206',\n",
      "             'movieID': ' m0 ',\n",
      "             'text': \" That's a shame.\"}],\n",
      "  'movieID': ' m0 '},\n",
      " {'char1ID': 'u0 ',\n",
      "  'char2ID': ' u2 ',\n",
      "  'dialoguesIDs': \" ['L207', 'L208']\",\n",
      "  'lines': [{'charID': ' u0 ',\n",
      "             'char_name': ' BIANCA ',\n",
      "             'lineID': 'L207',\n",
      "             'movieID': ' m0 ',\n",
      "             'text': ' Gosh, if only we could find Kat a boyfriend...'},\n",
      "            {'charID': ' u2 ',\n",
      "             'char_name': ' CAMERON ',\n",
      "             'lineID': 'L208',\n",
      "             'movieID': ' m0 ',\n",
      "             'text': ' Let me see what I can do.'}],\n",
      "  'movieID': ' m0 '},\n",
      " {'char1ID': 'u0 ',\n",
      "  'char2ID': ' u2 ',\n",
      "  'dialoguesIDs': \" ['L271', 'L272', 'L273', 'L274', 'L275']\",\n",
      "  'lines': [{'charID': ' u0 ',\n",
      "             'char_name': ' BIANCA ',\n",
      "             'lineID': 'L271',\n",
      "             'movieID': ' m0 ',\n",
      "             'text': \" C'esc ma tete. This is my head\"},\n",
      "            {'charID': ' u2 ',\n",
      "             'char_name': ' CAMERON ',\n",
      "             'lineID': 'L272',\n",
      "             'movieID': ' m0 ',\n",
      "             'text': \" Right.  See?  You're ready for the quiz.\"},\n",
      "            {'charID': ' u0 ',\n",
      "             'char_name': ' BIANCA ',\n",
      "             'lineID': 'L273',\n",
      "             'movieID': ' m0 ',\n",
      "             'text': \" I don't want to know how to say that though.  I want to \"\n",
      "                     'know useful things. Like where the good stores are.  How '\n",
      "                     'much does champagne cost?  Stuff like Chat.  I have '\n",
      "                     'never in my life had to point out my head to someone.'},\n",
      "            {'charID': ' u2 ',\n",
      "             'char_name': ' CAMERON ',\n",
      "             'lineID': 'L274',\n",
      "             'movieID': ' m0 ',\n",
      "             'text': \" That's because it's such a nice one.\"},\n",
      "            {'charID': ' u0 ',\n",
      "             'char_name': ' BIANCA ',\n",
      "             'lineID': 'L275',\n",
      "             'movieID': ' m0 ',\n",
      "             'text': ' Forget French.'}],\n",
      "  'movieID': ' m0 '},\n",
      " {'char1ID': 'u0 ',\n",
      "  'char2ID': ' u2 ',\n",
      "  'dialoguesIDs': \" ['L276', 'L277']\",\n",
      "  'lines': [{'charID': ' u0 ',\n",
      "             'char_name': ' BIANCA ',\n",
      "             'lineID': 'L276',\n",
      "             'movieID': ' m0 ',\n",
      "             'text': ' How is our little Find the Wench A Date plan '\n",
      "                     'progressing?'},\n",
      "            {'charID': ' u2 ',\n",
      "             'char_name': ' CAMERON ',\n",
      "             'lineID': 'L277',\n",
      "             'movieID': ' m0 ',\n",
      "             'text': \" Well, there's someone I think might be --\"}],\n",
      "  'movieID': ' m0 '},\n",
      " {'char1ID': 'u0 ',\n",
      "  'char2ID': ' u2 ',\n",
      "  'dialoguesIDs': \" ['L280', 'L281']\",\n",
      "  'lines': [{'charID': ' u2 ',\n",
      "             'char_name': ' CAMERON ',\n",
      "             'lineID': 'L280',\n",
      "             'movieID': ' m0 ',\n",
      "             'text': ' There.'},\n",
      "            {'charID': ' u0 ',\n",
      "             'char_name': ' BIANCA ',\n",
      "             'lineID': 'L281',\n",
      "             'movieID': ' m0 ',\n",
      "             'text': ' Where?'}],\n",
      "  'movieID': ' m0 '},\n",
      " {'char1ID': 'u0 ',\n",
      "  'char2ID': ' u2 ',\n",
      "  'dialoguesIDs': \" ['L363', 'L364']\",\n",
      "  'lines': [{'charID': ' u2 ',\n",
      "             'char_name': ' CAMERON ',\n",
      "             'lineID': 'L363',\n",
      "             'movieID': ' m0 ',\n",
      "             'text': ' You got something on your mind?'},\n",
      "            {'charID': ' u0 ',\n",
      "             'char_name': ' BIANCA ',\n",
      "             'lineID': 'L364',\n",
      "             'movieID': ' m0 ',\n",
      "             'text': ' I counted on you to help my cause. You and that thug '\n",
      "                     \"are obviously failing. Aren't we ever going on our \"\n",
      "                     'date?'}],\n",
      "  'movieID': ' m0 '},\n",
      " {'char1ID': 'u0 ',\n",
      "  'char2ID': ' u2 ',\n",
      "  'dialoguesIDs': \" ['L365', 'L366']\",\n",
      "  'lines': [{'charID': ' u2 ',\n",
      "             'char_name': ' CAMERON ',\n",
      "             'lineID': 'L365',\n",
      "             'movieID': ' m0 ',\n",
      "             'text': ' You have my word.  As a gentleman'},\n",
      "            {'charID': ' u0 ',\n",
      "             'char_name': ' BIANCA ',\n",
      "             'lineID': 'L366',\n",
      "             'movieID': ' m0 ',\n",
      "             'text': \" You're sweet.\"}],\n",
      "  'movieID': ' m0 '}]\n"
     ]
    }
   ],
   "source": [
    "conv_fields = ['char1ID', 'char2ID', 'movieID', 'dialoguesIDs']\n",
    "convs = []\n",
    "with open('movie_conversations.txt', 'r', encoding='iso-8859-1') as file:\n",
    "  for line in file:\n",
    "    vals = line.strip().split('+++$+++')\n",
    "    conv_obj = {}\n",
    "    for i in range(len(vals)):\n",
    "      conv_obj[conv_fields[i]] = vals[i]\n",
    "    lineIDs = conv_obj['dialoguesIDs'] # get line IDs from dialoguesIDs string, string type\n",
    "    lineIDs = lineIDs[2:-1] # remove braces from string \n",
    "    conv_obj[\"lines\"] = []\n",
    "    \n",
    "    for lineID in lineIDs.split(','): # split line IDs separated by ','\n",
    "      lineID = lineID.strip('\\' ')\n",
    "      try:\n",
    "        conv_obj[\"lines\"].append(lines[lineID]) #search for that line in lines dict with this linsID\n",
    "      except KeyError:\n",
    "        not_found += 1\n",
    "#         print(\"here\")\n",
    "        not_found.append(lineID)\n",
    "    convs.append(conv_obj)\n",
    "pp = pprint.PrettyPrinter()\n",
    "pp.pprint(convs[:10])"
   ]
  },
  {
   "cell_type": "code",
   "execution_count": 12,
   "metadata": {},
   "outputs": [
    {
     "name": "stdout",
     "output_type": "stream",
     "text": [
      "83097\n"
     ]
    }
   ],
   "source": [
    "print(len(convs))"
   ]
  },
  {
   "cell_type": "code",
   "execution_count": 13,
   "metadata": {},
   "outputs": [
    {
     "name": "stdout",
     "output_type": "stream",
     "text": [
      "221282\n"
     ]
    }
   ],
   "source": [
    "#extract pairs of conversations\n",
    "conv_pairs = []\n",
    "for conv in convs :\n",
    "    for i in range(len(conv['lines'])-1):\n",
    "        conv1 = conv['lines'][i]['text']\n",
    "        conv2 = conv['lines'][i+1]['text']\n",
    "        if conv1 and conv2:\n",
    "            conv_pairs.append([conv1, conv2])\n",
    "print(len(conv_pairs))"
   ]
  },
  {
   "cell_type": "code",
   "execution_count": 14,
   "metadata": {},
   "outputs": [],
   "source": [
    "#create new file containing conversation pairs\n",
    "delimiter = '\\t'\n",
    "delimiter = str(codecs.decode(delimiter, \"unicode_escape\"))\n",
    "with open(\"conv_pairs.txt\", \"w\", encoding='utf-8') as out_file:\n",
    "    writer = csv.writer(out_file, delimiter=delimiter)\n",
    "    for pair in conv_pairs:\n",
    "        writer.writerow(pair)"
   ]
  },
  {
   "cell_type": "code",
   "execution_count": 15,
   "metadata": {},
   "outputs": [
    {
     "name": "stdout",
     "output_type": "stream",
     "text": [
      "221282\n",
      "b\" Can we make this quick?  Roxanne Korrine and Andrew Barrett are having an incredibly horrendous public break- up on the quad.  Again.\\t Well, I thought we'd start with pronunciation, if that's okay with you.\\r\\n\"\n",
      "b\" Well, I thought we'd start with pronunciation, if that's okay with you.\\t Not the hacking and gagging and spitting part.  Please.\\r\\n\"\n",
      "b\" Not the hacking and gagging and spitting part.  Please.\\t Okay... then how 'bout we try out some French cuisine.  Saturday?  Night?\\r\\n\"\n",
      "b\" You're asking me out.  That's so cute. What's your name again?\\t Forget it.\\r\\n\"\n",
      "b\" No, no, it's my fault -- we didn't have a proper introduction ---\\t Cameron.\\r\\n\"\n",
      "b\" Cameron.\\t The thing is, Cameron -- I'm at the mercy of a particularly hideous breed of loser.  My sister.  I can't date until she does.\\r\\n\"\n",
      "b\" The thing is, Cameron -- I'm at the mercy of a particularly hideous breed of loser.  My sister.  I can't date until she does.\\t Seems like she could get a date easy enough...\\r\\n\"\n",
      "b' Why?\\t Unsolved mystery.  She used to be really popular when she started high school, then it was just like she got sick of it or something.\\r\\n'\n",
      "b\" Unsolved mystery.  She used to be really popular when she started high school, then it was just like she got sick of it or something.\\t That's a shame.\\r\\n\"\n",
      "b' Gosh, if only we could find Kat a boyfriend...\\t Let me see what I can do.\\r\\n'\n"
     ]
    }
   ],
   "source": [
    "with open('conv_pairs.txt','rb') as file:\n",
    "    lines = file.readlines()\n",
    "    print(len(lines))\n",
    "    for line in lines[:10]:\n",
    "        print(line)"
   ]
  },
  {
   "cell_type": "markdown",
   "metadata": {},
   "source": [
    "Part 2 : **Processing the words**"
   ]
  },
  {
   "cell_type": "code",
   "execution_count": 19,
   "metadata": {},
   "outputs": [
    {
     "ename": "IndentationError",
     "evalue": "expected an indented block (<ipython-input-19-e206bdc722a9>, line 33)",
     "output_type": "error",
     "traceback": [
      "\u001b[0;36m  File \u001b[0;32m\"<ipython-input-19-e206bdc722a9>\"\u001b[0;36m, line \u001b[0;32m33\u001b[0m\n\u001b[0;31m    def trim(self, threshold):\u001b[0m\n\u001b[0m    ^\u001b[0m\n\u001b[0;31mIndentationError\u001b[0m\u001b[0;31m:\u001b[0m expected an indented block\n"
     ]
    }
   ],
   "source": [
    "PAD_token = 0\n",
    "SOS_token = 1\n",
    "EOS_token = 2\n",
    "\n",
    "class Vocabulary():\n",
    "    def __init__(self, name):\n",
    "        self.name = name # assign name to different vocabularies, if there are > 1\n",
    "        self.word2ind = {} # dictionary to store unique index for each word in dictionary\n",
    "        self.word2count = {} # store frequency of each word\n",
    "        self.ind2word = {PAD_token:\"PAD\", SOS_token:\"SOS\", EOS_token:\"EOS\"}  #id:word\n",
    "        self.num_words = 3 #PAD, SOS, EOS\n",
    "    \n",
    "    def word_count(self, sentence): # function to count word frequency\n",
    "        for word in sentence.split(' '):\n",
    "            try:\n",
    "                self.word2count[word] += 1\n",
    "            except KeyError:\n",
    "                self.word2count[word] = 1\n",
    "    def add_word(self, word):\n",
    "        try : \n",
    "            self.word2count[word] += 1\n",
    "        except KeyError:\n",
    "            self.word2ind[word] = self.num_words\n",
    "            self.word2count[word] = 1\n",
    "            self.ind2word[num_words] = word\n",
    "            self.num_words += 1\n",
    "            \n",
    "    # keep only those words in vocabulary whose frequency is above certain threshold\n",
    "    def trim(self, threshold):\n",
    "#         vocab = []\n",
    "        for k,v in self.word2count.items():\n",
    "            if v >= threshold:\n",
    "                del self.word2count[k]\n",
    "#                 vocab.append(k)\n",
    "        # Re-initialise the class variables\n",
    "#         self.word2ind = {} \n",
    "#         self.word2count = {} \n",
    "#         self.ind2word = {PAD_token:\"PAD\", SOS_token:\"SOS\", EOS_token:\"EOS\"}  \n",
    "#         self.num_words = 3 \n",
    "        \n",
    "        for word in word2count.keys():\n",
    "            self.add_word(word)"
   ]
  },
  {
   "cell_type": "code",
   "execution_count": null,
   "metadata": {},
   "outputs": [],
   "source": []
  }
 ],
 "metadata": {
  "accelerator": "GPU",
  "colab": {
   "name": "Building chatbot in PyTorch.ipynb",
   "provenance": [],
   "version": "0.3.2"
  },
  "kernelspec": {
   "display_name": "Python 3",
   "language": "python",
   "name": "python3"
  },
  "language_info": {
   "codemirror_mode": {
    "name": "ipython",
    "version": 3
   },
   "file_extension": ".py",
   "mimetype": "text/x-python",
   "name": "python",
   "nbconvert_exporter": "python",
   "pygments_lexer": "ipython3",
   "version": "3.7.3"
  }
 },
 "nbformat": 4,
 "nbformat_minor": 1
}
